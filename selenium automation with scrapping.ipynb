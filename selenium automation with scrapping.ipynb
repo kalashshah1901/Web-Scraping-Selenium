{
 "cells": [
  {
   "cell_type": "markdown",
   "id": "ff799e0e",
   "metadata": {},
   "source": [
    "### Automation with scaping using selenium\n",
    "\n",
    "* Documentation Link : \"https://selenium-python.readthedocs.io/getting-started.html\"<br>\n",
    "* ChromeDriver : 111.0.5563.41\n",
    "* Reffrence Link For Absolute path : \"https://www.softwaretestingmaterial.com/dynamic-xpath-in-selenium/\""
   ]
  },
  {
   "cell_type": "code",
   "execution_count": 1,
   "id": "a0a83242",
   "metadata": {},
   "outputs": [],
   "source": [
    "# !pip install selenium"
   ]
  },
  {
   "cell_type": "code",
   "execution_count": 123,
   "id": "3635519f",
   "metadata": {},
   "outputs": [
    {
     "data": {
      "text/html": [
       "<style>.container { width:100% !important; }</style>"
      ],
      "text/plain": [
       "<IPython.core.display.HTML object>"
      ]
     },
     "metadata": {},
     "output_type": "display_data"
    }
   ],
   "source": [
    "from IPython.core.display import display, HTML\n",
    "display(HTML(\"<style>.container { width:100% !important; }</style>\"))"
   ]
  },
  {
   "cell_type": "code",
   "execution_count": 124,
   "id": "d6f8e786",
   "metadata": {},
   "outputs": [],
   "source": [
    "from selenium import webdriver\n",
    "from selenium.webdriver.common.keys import Keys\n",
    "from selenium.webdriver.chrome.options import Options\n",
    "from selenium.webdriver.chrome.service import Service\n",
    "from selenium.webdriver.support.ui import WebDriverWait\n",
    "from selenium.webdriver.support import expected_conditions as EC\n",
    "from selenium.webdriver.support.ui import Select\n",
    "from selenium.webdriver.common.by import By\n",
    "\n",
    "import os,re"
   ]
  },
  {
   "cell_type": "code",
   "execution_count": null,
   "id": "bc2a9ad1",
   "metadata": {},
   "outputs": [],
   "source": [
    "# os.getcwd()\n",
    "\n",
    "# main = os.walk('/Kalash_new/')\n",
    "# for dirs in main:\n",
    "#     print(dirs)"
   ]
  },
  {
   "cell_type": "code",
   "execution_count": 125,
   "id": "5ea1e6f1",
   "metadata": {},
   "outputs": [],
   "source": [
    "path = os.getcwd()## location for file located in cur_dir\n",
    "prefs = {\n",
    "    'download.default_directory': path,\n",
    "    'download.prompt_for_download': False,\n",
    "    'disable-popup-blocking': True,\n",
    "    'safebrowsing.enabled': True,\n",
    "    }\n",
    "\n",
    "# Browser options\n",
    "options = Options()\n",
    "options.add_argument(\"disable-infobars\")\n",
    "options.add_experimental_option('prefs',prefs)\n",
    "# options.add_argument('window-size=1000,650');\n",
    "# chrome_driver.maximize_window()"
   ]
  },
  {
   "cell_type": "code",
   "execution_count": 15,
   "id": "c339632b",
   "metadata": {},
   "outputs": [],
   "source": [
    "## add the chromedriver\n",
    "\n",
    "driver = webdriver.Chrome(service=Service(os.path.join(path + '\\\\chromedriver.exe')),options=options)\n"
   ]
  },
  {
   "cell_type": "code",
   "execution_count": 16,
   "id": "dc943d79",
   "metadata": {},
   "outputs": [
    {
     "data": {
      "text/plain": [
       "<selenium.webdriver.remote.webelement.WebElement (session=\"69be1c54b7ee7c1e75d32b375b3ad16f\", element=\"256ec62b-aceb-4e68-ab38-a7a00c343237\")>"
      ]
     },
     "execution_count": 16,
     "metadata": {},
     "output_type": "execute_result"
    }
   ],
   "source": [
    "## open site\n",
    "\n",
    "driver.get(\"https://in.indeed.com/\")\n",
    "WebDriverWait(driver, 10).until(EC.invisibility_of_element_located((By.XPATH,'/html/body/div/header/nav/div/div/div[1]/div/div[1]/a')))\n",
    "# driver.get('https://www.google.com/')"
   ]
  },
  {
   "cell_type": "code",
   "execution_count": 17,
   "id": "bcb6861e",
   "metadata": {},
   "outputs": [],
   "source": [
    "try:   \n",
    "    what=WebDriverWait(driver,10).until( EC.presence_of_element_located((By.XPATH, \"/html/body/div/div[1]/div/span/div[3]/div[1]/div/div/div/div/form/div/div[1]/div/div[1]/div/div[2]/input\")))\n",
    "    what.send_keys(\"Python Developer\",Keys.RETURN)   \n",
    "except:\n",
    "    assert \"Elemrnt not present\""
   ]
  },
  {
   "cell_type": "code",
   "execution_count": 18,
   "id": "cc65ddca",
   "metadata": {},
   "outputs": [],
   "source": [
    "try:\n",
    "    \n",
    "    where=WebDriverWait(driver,10).until( EC.presence_of_element_located((By.XPATH, '//*[@id=\"text-input-where\"]')))\n",
    "    where.send_keys(\"Ahmedabad\",Keys.RETURN)  \n",
    "except:\n",
    "    \n",
    "    assert \"Elemrnt not present\""
   ]
  },
  {
   "cell_type": "code",
   "execution_count": 130,
   "id": "7e4fff56",
   "metadata": {},
   "outputs": [],
   "source": [
    "### Date Posted\n",
    "# if not 'Session has expired!' in driver.find_element(by=By.CLASS_NAME,value=\"headline-3-text\").text:\n",
    "\n",
    "if \"Date Posted\" in driver.find_element(by=By.XPATH, value='//*[@id=\"filter-dateposted\"]/div').text:\n",
    "    date_posted = WebDriverWait(driver, 20).until(EC.presence_of_element_located((By.XPATH, '//*[@id=\"filter-dateposted\"]/div')))\n",
    "    date_posted.click()\n",
    "\n",
    "    chb_3 = WebDriverWait(driver, 20).until(EC.presence_of_element_located((By.XPATH, '//*[@class=\"yosegi-FilterPill-dropdownPillContainer\"]/ul/li[3]/a')))\n",
    "    chb_3.click()\n",
    "else:\n",
    "    assert \"Elemrnt not present\""
   ]
  },
  {
   "cell_type": "code",
   "execution_count": 19,
   "id": "1c99b19c",
   "metadata": {},
   "outputs": [],
   "source": [
    "### Remote\n",
    "\n",
    "if \"Remote\" in driver.find_element(by=By.XPATH, value='//*[@class=\"yosegi-FilterPill-pill\"]').text:\n",
    "\n",
    "    is_remote = WebDriverWait(driver, 20).until(EC.presence_of_element_located((By.XPATH, '//*[@class=\"yosegi-FilterPill-pill\"]//*[text() = \"Remote\"]')))\n",
    "    is_remote.click()\n",
    "\n",
    "    chb = WebDriverWait(driver, 20).until(EC.presence_of_element_located((By.XPATH, '//*[@id=\"filter-remotejob-menu\"]/li/a')))\n",
    "    chb.click()\n",
    "else:\n",
    "    assert \"Elemrnt not present\""
   ]
  },
  {
   "cell_type": "code",
   "execution_count": null,
   "id": "4787d05f",
   "metadata": {},
   "outputs": [],
   "source": [
    "### Job Type\n",
    "\n",
    "job_type = WebDriverWait(driver, 20).until(EC.presence_of_element_located((By.XPATH, '//*[@class=\"yosegi-FilterPill-pill\"]//*[text() = \"Job Type\"]')))\n",
    "job_type.click()\n",
    "\n",
    "which_type = input('Enter job type')\n"
   ]
  },
  {
   "cell_type": "code",
   "execution_count": 20,
   "id": "e93c4379",
   "metadata": {},
   "outputs": [],
   "source": [
    "find_job_btn=WebDriverWait(driver,10).until( EC.visibility_of_element_located((By.XPATH, \"/html/body/main/div/div[1]/div/div/div[2]/div/div/div/div[1]/form/button\")))\n",
    "find_job_btn.click()\n",
    "\n",
    "\n",
    "\n"
   ]
  },
  {
   "cell_type": "code",
   "execution_count": 115,
   "id": "ac860476",
   "metadata": {},
   "outputs": [
    {
     "name": "stdout",
     "output_type": "stream",
     "text": [
      "The current url is:https://in.indeed.com/\n"
     ]
    }
   ],
   "source": [
    "get_url = driver.current_url\n",
    "print(\"The current url is: \"+str(get_url))\n",
    "# driver.quit()"
   ]
  },
  {
   "cell_type": "code",
   "execution_count": null,
   "id": "5cfe9c51",
   "metadata": {},
   "outputs": [],
   "source": [
    "//*[@class=\"yosegi-FilterPill-dropdownPillContainer\"]/ul/li\n",
    "\n",
    "# //*[@class=\"css-1m4cuuf e37uo190\"]/h2/a/span\n",
    "\n",
    "#//*[contains(text(), \"Python\")]"
   ]
  },
  {
   "cell_type": "code",
   "execution_count": 21,
   "id": "75b648d0",
   "metadata": {},
   "outputs": [
    {
     "name": "stdout",
     "output_type": "stream",
     "text": [
      "Python Developer\n",
      "Python Developer\n",
      "Python Application Developer\n",
      "Django Python Developer\n",
      "Python/Django Developer\n",
      "Python/Django developer\n",
      "Python Developer\n",
      "Python Developer\n",
      "Python/Django Developer\n",
      "Python/Django Developer\n",
      "Senior Python / Django Developer\n",
      "Python developer\n",
      "Python backend developer\n",
      "Python Developer\n",
      "Python Developer/ Web Scraper\n"
     ]
    }
   ],
   "source": [
    "designation = WebDriverWait(driver, 20).until(EC.visibility_of_all_elements_located((By.XPATH, '//*[@class=\"css-1m4cuuf e37uo190\"]/h2/a/span')))\n",
    "\n",
    "for deg in designation:\n",
    "    print(deg.text)"
   ]
  },
  {
   "cell_type": "code",
   "execution_count": 22,
   "id": "43f2aff5",
   "metadata": {},
   "outputs": [
    {
     "name": "stdout",
     "output_type": "stream",
     "text": [
      "Ivory Technolab\n",
      "smartSense Consulting Solutions\n",
      "TechSture Technologies\n",
      "Orion Consultech\n",
      "Simprosys InfoMedia\n",
      "Intellial\n",
      "4.0\n",
      "360 Degree Technosoft\n",
      "Taasha Technologies\n",
      "PranshTech Solutions Pvt Ltd.\n",
      "Sigma Solve Inc.\n",
      "Virtual Reality Systems\n",
      "RiverEdge Analytics\n",
      "Sigzen Technologies Pvt Ltd\n",
      "CloudStakes Technology Pvt. Ltd.\n",
      "HIR INFOTECH\n"
     ]
    }
   ],
   "source": [
    "COMPANY_NAME = WebDriverWait(driver, 20).until(EC.visibility_of_all_elements_located((By.XPATH, '//*[@class=\"heading6 company_location tapItem-gutter companyInfo\"]/span')))\n",
    "\n",
    "for company in COMPANY_NAME:\n",
    "    print(company.text)"
   ]
  },
  {
   "cell_type": "code",
   "execution_count": 25,
   "id": "4a1e7a2e",
   "metadata": {},
   "outputs": [],
   "source": [
    "company_loc = WebDriverWait(driver, 20).until(EC.visibility_of_all_elements_located((By.XPATH, '//*[@class=\"heading6 company_location tapItem-gutter companyInfo\"]/div')))\n",
    "company_loc_lst = []\n",
    "for loc in company_loc:\n",
    "    company_loc_lst.append(loc.text)"
   ]
  },
  {
   "cell_type": "code",
   "execution_count": 26,
   "id": "99e164d7",
   "metadata": {},
   "outputs": [
    {
     "data": {
      "text/plain": [
       "['Science City, Ahmedabad, Gujarat',\n",
       " 'Gandhinagar, Gujarat',\n",
       " 'Ahmedabad, Gujarat',\n",
       " 'Gandhinagar, Gujarat',\n",
       " 'Ahmedabad, Gujarat',\n",
       " 'Ahmedabad, Gujarat',\n",
       " 'Ahmedabad, Gujarat',\n",
       " 'Ahmedabad, Gujarat',\n",
       " 'Gota, Ahmedabad, Gujarat',\n",
       " 'Ahmedabad, Gujarat',\n",
       " 'Gandhinagar, Gujarat',\n",
       " 'Ahmedabad, Gujarat',\n",
       " 'Ahmedabad, Gujarat',\n",
       " 'Ahmedabad, Gujarat',\n",
       " 'Gota, Ahmedabad, Gujarat']"
      ]
     },
     "execution_count": 26,
     "metadata": {},
     "output_type": "execute_result"
    }
   ],
   "source": [
    "company_loc_lst"
   ]
  },
  {
   "cell_type": "markdown",
   "id": "d4982a91",
   "metadata": {},
   "source": [
    "//*[@class=\"heading6 company_location tapItem-gutter companyInfo\"]/div\n"
   ]
  },
  {
   "cell_type": "code",
   "execution_count": 59,
   "id": "98fa2e68",
   "metadata": {},
   "outputs": [],
   "source": [
    "# # from selenium import webdriver\n",
    "\n",
    "# # browser = webdriver.Chrome()\n",
    "# driver.get('https://www.baidu.com/')\n",
    "# in_put = driver.find_element_by_xpath('//*[@id=\"kw\"]').send_keys('python')\n",
    "# button = driver.find_element_by_xpath('//*[@id=\"su\"]').click()\n",
    "# page = driver.current_url\n",
    "# print(page)\n",
    "# # with open('baidu.html', 'w') as f:\n",
    "# #     f.write(page)"
   ]
  },
  {
   "cell_type": "code",
   "execution_count": 116,
   "id": "8d537ca9",
   "metadata": {},
   "outputs": [],
   "source": [
    "driver.execute_script(\"scroll(0, 0);\")\n",
    "designation = WebDriverWait(driver, 20).until(EC.visibility_of_all_elements_located((By.XPATH, '//*[@class=\"css-1m4cuuf e37uo190\"]/h2/a/span')))\n",
    "\n",
    "for file_dropdown in range(len(designation)):\n",
    "    WebDriverWait(driver, 20).until(EC.presence_of_element_located((By.XPATH,f'/html/body/main/div/div[1]/div/div/div[5]/div[1]/div[5]/div/ul/li[{file_dropdown+1}]/div/div[1]/div/div[1]/div/table[1]/tbody/tr/td/div[1]/h2/a/span')))\n",
    "    WebDriverWait(driver, 20).until(EC.element_to_be_clickable((By.XPATH,f'/html/body/main/div/div[1]/div/div/div[5]/div[1]/div[5]/div/ul/li[{file_dropdown+1}]/div/div[1]/div/div[1]/div/table[1]/tbody/tr/td/div[1]/h2/a/span'))).click()"
   ]
  },
  {
   "cell_type": "code",
   "execution_count": null,
   "id": "3bf725f3",
   "metadata": {},
   "outputs": [],
   "source": [
    "# Download Forms\n",
    "driver.execute_script(\"scroll(0, 0);\")\n",
    "for file_dropdown in range(len(driver.find_elements_by_xpath('//*[text()=\"Download Form\"]'))):\n",
    "    WebDriverWait(driver, 20).until(EC.presence_of_element_located((By.XPATH,f'//*[@id=\"maincontentid\"]/app-dashboard/app-itr-status/div[4]/div[{file_dropdown+1}]/div/mat-card/div/div[4]/div[2]/div[1]/button')))\n",
    "    WebDriverWait(driver, 20).until(EC.element_to_be_clickable((By.XPATH,f'//*[@id=\"maincontentid\"]/app-dashboard/app-itr-status/div[4]/div[{file_dropdown+1}]/div/mat-card/div/div[4]/div[2]/div[1]/button'))).click()\n",
    "    WebDriverWait(driver, 30).until(EC.invisibility_of_element_located((By.XPATH,'//div[text()=\" Loading \"]')))\n",
    "    # time.sleep(1)\n",
    "#     driver.set_page_load_timeout(20)\n",
    "    target = WebDriverWait(driver, 20).until(EC.presence_of_element_located((By.XPATH,f'/html/body/app-root/div[1]\\\n",
    "    /div[3]/app-dashboard/app-itr-status/div[4]/div[{file_dropdown+1}]/div/mat-card/mat-card-header/div/mat-card-title/div/mat-label'))).text\n",
    "    print(target)\n",
    "    for i in  os.listdir(os.getcwd()+\"\\\\\"):\n",
    "        if i.endswith(\"Pdf_\")  and not i.startswith(\"AY\"):\n",
    "            os.rename(i,'Forms_'+target)\n",
    "            print(\"Source path renamed to destination path successfully.\")"
   ]
  }
 ],
 "metadata": {
  "kernelspec": {
   "display_name": "Python 3 (ipykernel)",
   "language": "python",
   "name": "python3"
  },
  "language_info": {
   "codemirror_mode": {
    "name": "ipython",
    "version": 3
   },
   "file_extension": ".py",
   "mimetype": "text/x-python",
   "name": "python",
   "nbconvert_exporter": "python",
   "pygments_lexer": "ipython3",
   "version": "3.9.13"
  }
 },
 "nbformat": 4,
 "nbformat_minor": 5
}
